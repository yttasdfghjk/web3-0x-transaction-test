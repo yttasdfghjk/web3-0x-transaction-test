{
 "cells": [
  {
   "cell_type": "code",
   "execution_count": null,
   "id": "9f9034a4-5695-435b-b0b8-d797d9184b4a",
   "metadata": {},
   "outputs": [],
   "source": [
    "#Test: Token swap using Aggregator"
   ]
  },
  {
   "cell_type": "code",
   "execution_count": null,
   "id": "fdce7b69-e0de-42f5-ae52-2aa3ab144fc0",
   "metadata": {
    "tags": []
   },
   "outputs": [],
   "source": [
    "import requests\n",
    "import json\n",
    "import time\n",
    "from web3 import Web3"
   ]
  },
  {
   "cell_type": "code",
   "execution_count": null,
   "id": "dd3f7a9a-db19-448d-b5de-c2a8fb16f547",
   "metadata": {},
   "outputs": [],
   "source": [
    "walletAddress = 'mywalletaddress'\n",
    "wpk = 'myprivatekey'\n",
    "\n",
    "# Setup Ropsten provider\n",
    "w3 = Web3(Web3.HTTPProvider('https://ropsten.infura.io/v3/'))\n",
    "\n",
    "# Get the nonce to prevent from sending the transaction twice\n",
    "nonce = w3.eth.getTransactionCount(walletAddress)\n",
    "print('Nonce:', nonce)\n",
    "\n",
    "# Store the generic ERC20 abi for later use\n",
    "ABI = json.load(open('abi.json'))\n",
    "\n",
    "# ROPSTEN ADDRESSES\n",
    "WETH = Web3.toChecksumAddress('0xc778417e063141139fce010982780140aa0cd5ab')\n",
    "DAI = Web3.toChecksumAddress('0xad6d458402f60fd3bd25163575031acdce07538d')\n",
    "USDC = Web3.toChecksumAddress('0x07865c6e87b9f70255377e024ace6630c1eaa37f')\n",
    "\n",
    "\n",
    "def calcAmount(initialAmount, contractAddress):\n",
    "    contract = w3.eth.contract(address=contractAddress, abi=ABI)\n",
    "    decimals = contract.functions.decimals().call()\n",
    "    amount = int(initialAmount * 10**decimals)\n",
    "    return amount\n",
    "    print(decimals, amount)\n",
    "\n",
    "\n",
    "def getTokenSymbol(contractAddress):\n",
    "    contract = w3.eth.contract(address=contractAddress, abi=ABI)\n",
    "    tokenSymbol = contract.functions.symbol().call()\n",
    "    return tokenSymbol\n",
    "    print('Symbol:', tokenSymbol)\n"
   ]
  },
  {
   "cell_type": "code",
   "execution_count": null,
   "id": "20ec8519-a769-41bf-bc90-5c4cef546515",
   "metadata": {},
   "outputs": [],
   "source": [
    "# Define query parameters\n",
    "initialAmount = 100\n",
    "slippage = '0.01'  # 0.01 = 1% slippage\n",
    "sellAmount = calcAmount(initialAmount, USDC)\n",
    "print('Sell:', sellAmount)\n",
    "\n",
    "\n",
    "def approve(token, spenderAddress, walletAddress, wpk):\n",
    "\n",
    "    token = Web3.toChecksumAddress(token)\n",
    "\n",
    "    contract = w3.eth.contract(address=token, abi=ABI)\n",
    "\n",
    "    spender = Web3.toChecksumAddress(spenderAddress)\n",
    "    max_amount = Web3.toWei(2**64 - 1, 'ether')\n",
    "    nonce = w3.eth.getTransactionCount(walletAddress)\n",
    "\n",
    "    tx = contract.functions.approve(spender, max_amount).buildTransaction({\n",
    "        'from': walletAddress,\n",
    "        'nonce': nonce\n",
    "    })\n",
    "\n",
    "    signed_tx = w3.eth.account.signTransaction(tx, wpk)\n",
    "    tx_hash = w3.eth.sendRawTransaction(signed_tx.rawTransaction)\n",
    "\n",
    "    print(\"Approve\", w3.toHex(tx_hash))\n",
    "\n",
    "    w3.eth.wait_for_transaction_receipt(tx_hash)\n",
    "\n",
    "\n",
    "def getQuote(buyToken, slippage, sellToken, sellAmount):\n",
    "    # Make the query https://ropsten.api.0x.org/\n",
    "    query = 'https://ropsten.api.0x.org/swap/v1/quote?buyToken={}&slippage={}&sellToken={}&sellAmount={}'.format(buyToken, slippage, sellToken, sellAmount)\n",
    "    # Get the query and store the response in data\n",
    "    response = requests.get(query)\n",
    "    data = response.json()\n",
    "    # Print a prettiefied version of the response (optional)\n",
    "    print(json.dumps(data, indent=2))\n",
    "    # Convert the buyAmmount to integer\n",
    "    buyAmount = int(data['buyAmount'])\n",
    "    # Convert the buyAmount to a readable number\n",
    "    finalPrice = calcAmount(buyAmount, buyToken)\n",
    "    # Get the symbol of the 2 tokens\n",
    "    buyTokenSymbol = getTokenSymbol(buyToken)\n",
    "    sellTokenSymbol = getTokenSymbol(sellToken)\n",
    "    print(sellTokenSymbol, '->', buyTokenSymbol)\n",
    "\n",
    "    approve(data['sellTokenAddress'], data['allowanceTarget'], walletAddress, wpk)\n",
    "\n",
    "    tx = {\n",
    "        \"from\": walletAddress,\n",
    "        \"to\": Web3.toChecksumAddress(data['to']),\n",
    "        \"data\": data['data'],\n",
    "        \"value\": 0,\n",
    "        \"gas\": int(data['gas']),\n",
    "        \"gasPrice\": int(data['gasPrice']),\n",
    "        \"nonce\": nonce + 1,\n",
    "        \"chainId\": data['chainId']\n",
    "    }\n",
    "\n",
    "    # sign the transaction\n",
    "    signed_tx = w3.eth.account.sign_transaction(tx, wpk)\n",
    "    #\n",
    "    # send transaction\n",
    "    tx_hash = w3.eth.send_raw_transaction(signed_tx.rawTransaction)\n",
    "    #\n",
    "    # get transaction hash\n",
    "    print(w3.toHex(tx_hash))\n"
   ]
  },
  {
   "cell_type": "code",
   "execution_count": null,
   "id": "c4f0a7eb-5281-4a76-a626-1bc3a34918c0",
   "metadata": {},
   "outputs": [],
   "source": [
    "# Use only for testing the query\n",
    "getQuote(DAI, slippage, USDC, sellAmount)"
   ]
  }
 ],
 "metadata": {
  "kernelspec": {
   "display_name": "Python 3 (ipykernel)",
   "language": "python",
   "name": "python3"
  },
  "language_info": {
   "codemirror_mode": {
    "name": "ipython",
    "version": 3
   },
   "file_extension": ".py",
   "mimetype": "text/x-python",
   "name": "python",
   "nbconvert_exporter": "python",
   "pygments_lexer": "ipython3",
   "version": "3.11.5"
  }
 },
 "nbformat": 4,
 "nbformat_minor": 5
}
